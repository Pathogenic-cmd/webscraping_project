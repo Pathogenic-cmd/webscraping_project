{
 "cells": [
  {
   "cell_type": "code",
   "execution_count": 1,
   "id": "3f6a41bb-94a5-40d0-ad4a-e9360706faa1",
   "metadata": {},
   "outputs": [],
   "source": [
    "from bs4 import BeautifulSoup\n",
    "import pandas as pd\n",
    "import requests"
   ]
  },
  {
   "cell_type": "code",
   "execution_count": 22,
   "id": "5bbcc48f-2973-4906-b129-d32a6852d430",
   "metadata": {},
   "outputs": [],
   "source": [
    "import time\n",
    "\n",
    "BASE_URL = \"https://betocosmetics.com\"\n",
    "COLLECTION_URL = \"https://betocosmetics.com/collections/skin-care\"\n",
    "HEADERS = {\n",
    "    \"User-Agent\": \"Mozilla/5.0 (compatible; Googlebot/2.1; +http://www.google.com/bot.html)\"\n",
    "}\n",
    "\n",
    "def get_soup(url):\n",
    "    response = requests.get(url, headers=HEADERS)\n",
    "    response.raise_for_status()\n",
    "    return BeautifulSoup(response.text, \"html.parser\")\n",
    "\n",
    "def extract_product_links(soup):\n",
    "    product_tags = soup.find_all(\"a\", class_=\"productitem--image-link\")\n",
    "    links = [BASE_URL + tag['href'] for tag in product_tags if tag.get('href')]\n",
    "    return links\n",
    "\n",
    "def scrape_all_product_links(start_url):\n",
    "    page = 1\n",
    "    all_links = set()\n",
    "\n",
    "    while True:\n",
    "        paged_url = f\"{start_url}?page={page}\"\n",
    "        print(f\"Scraping page {page}...\")\n",
    "\n",
    "        soup = get_soup(paged_url)\n",
    "        links = extract_product_links(soup)\n",
    "\n",
    "        if not links:\n",
    "            print(\"No more products found. Stopping.\")\n",
    "            break\n",
    "\n",
    "        for link in links:\n",
    "            all_links.add(link)\n",
    "\n",
    "        page += 1\n",
    "        time.sleep(5)  # be polite to the server\n",
    "\n",
    "    return list(all_links)"
   ]
  },
  {
   "cell_type": "code",
   "execution_count": 23,
   "id": "888fc5fc-b049-4e9d-8e04-e2f7d598e4ee",
   "metadata": {},
   "outputs": [],
   "source": [
    "links_list = []"
   ]
  },
  {
   "cell_type": "code",
   "execution_count": 24,
   "id": "83f39410-5810-4084-a88d-2f24c53d4895",
   "metadata": {},
   "outputs": [
    {
     "name": "stdout",
     "output_type": "stream",
     "text": [
      "Scraping page 1...\n",
      "Scraping page 2...\n",
      "Scraping page 3...\n",
      "Scraping page 4...\n",
      "Scraping page 5...\n",
      "Scraping page 6...\n",
      "Scraping page 7...\n",
      "Scraping page 8...\n",
      "Scraping page 9...\n",
      "Scraping page 10...\n",
      "Scraping page 11...\n",
      "No more products found. Stopping.\n"
     ]
    }
   ],
   "source": [
    "links_list = scrape_all_product_links(COLLECTION_URL)"
   ]
  },
  {
   "cell_type": "markdown",
   "id": "ad12cef4-e2df-4462-a101-f9e41f61ebbc",
   "metadata": {},
   "source": [
    "### writing extraction functions"
   ]
  },
  {
   "cell_type": "code",
   "execution_count": 5,
   "id": "bff225e1-ec60-4527-90b4-9655d3886ce1",
   "metadata": {},
   "outputs": [],
   "source": [
    "def get_product_title(n):\n",
    "    try:\n",
    "        brand = n.find('h1', attrs='product-title').text.strip()\n",
    "    except AttributeError:\n",
    "        brand = \"\"\n",
    "    return brand"
   ]
  },
  {
   "cell_type": "code",
   "execution_count": 101,
   "id": "c1c93aa6-a1ff-4dc6-bf5a-b164a0498ed1",
   "metadata": {},
   "outputs": [
    {
     "data": {
      "text/plain": [
       "'7 days 7 nights Brightening Lotion 500ml'"
      ]
     },
     "execution_count": 101,
     "metadata": {},
     "output_type": "execute_result"
    }
   ],
   "source": [
    "get_product_title(new_page)"
   ]
  },
  {
   "cell_type": "code",
   "execution_count": 6,
   "id": "bbcb49e0-bf21-4895-a5fa-7db74f89eac3",
   "metadata": {},
   "outputs": [],
   "source": [
    "def get_product_vendor(n):\n",
    "    try:\n",
    "        brand = n.find('div', attrs='product-vendor').text.strip()\n",
    "    except AttributeError:\n",
    "        brand = \"\"\n",
    "    return brand\n",
    "    "
   ]
  },
  {
   "cell_type": "code",
   "execution_count": 104,
   "id": "f29bfde0-3ac8-4fe5-8e2f-bbaf3bb561d0",
   "metadata": {},
   "outputs": [
    {
     "data": {
      "text/plain": [
       "'by Dodo Cosmetics'"
      ]
     },
     "execution_count": 104,
     "metadata": {},
     "output_type": "execute_result"
    }
   ],
   "source": [
    "get_product_vendor(new_page)"
   ]
  },
  {
   "cell_type": "code",
   "execution_count": 7,
   "id": "945f5f33-5d99-442c-a93f-b8ca701a7681",
   "metadata": {},
   "outputs": [],
   "source": [
    "def get_product_availability(n):\n",
    "    try:\n",
    "        brand = n.find('div', attrs='product-stock-level__badge-text').text.strip()\n",
    "    except AttributeError:\n",
    "        brand = \"\"\n",
    "    return brand\n",
    "    "
   ]
  },
  {
   "cell_type": "code",
   "execution_count": 106,
   "id": "74f74435-38e7-485d-bf76-b2583bbf06c1",
   "metadata": {},
   "outputs": [
    {
     "data": {
      "text/plain": [
       "'Out of stock'"
      ]
     },
     "execution_count": 106,
     "metadata": {},
     "output_type": "execute_result"
    }
   ],
   "source": [
    "get_product_availability(new_page)"
   ]
  },
  {
   "cell_type": "code",
   "execution_count": 8,
   "id": "aa83ce55-4bcc-4b76-8fbd-ab4aae259ce3",
   "metadata": {},
   "outputs": [],
   "source": [
    "def get_product_badge(n):\n",
    "    try:\n",
    "        brand = n.find('span', attrs='product__badge').text.strip()\n",
    "    except AttributeError:\n",
    "        brand = \"\"\n",
    "    return brand"
   ]
  },
  {
   "cell_type": "code",
   "execution_count": 108,
   "id": "9c4d8bf2-ce57-4018-a953-1594221a8c54",
   "metadata": {},
   "outputs": [
    {
     "data": {
      "text/plain": [
       "'Sold out'"
      ]
     },
     "execution_count": 108,
     "metadata": {},
     "output_type": "execute_result"
    }
   ],
   "source": [
    "get_product_badge(new_page)"
   ]
  },
  {
   "cell_type": "code",
   "execution_count": 9,
   "id": "2377b72d-a574-4bbe-9743-5abca0c456dd",
   "metadata": {},
   "outputs": [],
   "source": [
    "def get_price(soup):\n",
    "    try:\n",
    "        container = soup.find('div', class_='price__current')\n",
    "        price_tag = container.find('span', class_='money') if container else None\n",
    "        return price_tag.text.strip() if price_tag else \"\"\n",
    "    except Exception:\n",
    "        return \"\""
   ]
  },
  {
   "cell_type": "code",
   "execution_count": 110,
   "id": "fd2456ed-08e8-48be-a46b-eb27a2d0a7df",
   "metadata": {},
   "outputs": [
    {
     "data": {
      "text/plain": [
       "'5.000 BD'"
      ]
     },
     "execution_count": 110,
     "metadata": {},
     "output_type": "execute_result"
    }
   ],
   "source": [
    "get_price(new_page)"
   ]
  },
  {
   "cell_type": "code",
   "execution_count": 10,
   "id": "67f3f8cc-a0ae-4e68-b6c1-4d7555cd2c0c",
   "metadata": {},
   "outputs": [],
   "source": [
    "def get_product_image_url(n):\n",
    "    img = n.find('img', class_='product-gallery--loaded-image')\n",
    "    if img and img.get('src'):\n",
    "        return 'https:' + img['src']\n",
    "    return ''"
   ]
  },
  {
   "cell_type": "code",
   "execution_count": 112,
   "id": "172bf706-f87d-4897-a0a0-ec12e3415900",
   "metadata": {
    "scrolled": true
   },
   "outputs": [
    {
     "data": {
      "text/plain": [
       "'https://betocosmetics.com/cdn/shop/files/C7A4FAA8-92B8-4DD5-AD78-5A28071DBB55_305x440.jpg?v=1732245682'"
      ]
     },
     "execution_count": 112,
     "metadata": {},
     "output_type": "execute_result"
    }
   ],
   "source": [
    "get_product_image_url(new_page)"
   ]
  },
  {
   "cell_type": "code",
   "execution_count": 11,
   "id": "ac535826-6667-4af2-820f-088f1992764d",
   "metadata": {},
   "outputs": [],
   "source": [
    "import re\n",
    "\n",
    "def get_description(n):\n",
    "    try:\n",
    "        about = n.find('div', class_='product-description rte').get_text(separator=' ', strip=True)\n",
    "        about = re.sub(r'\\s+', ' ', about)  # Collapse multiple whitespace/newlines into a single space\n",
    "    except AttributeError:\n",
    "        about = \"\"\n",
    "    return about"
   ]
  },
  {
   "cell_type": "code",
   "execution_count": 114,
   "id": "4b8e6b1d-a79a-488b-9740-261fee0aa92b",
   "metadata": {},
   "outputs": [
    {
     "data": {
      "text/plain": [
       "'\"7 DAYS NIGHTS\" Super Lightening Body Lotion The lightening body lotion 7 days 7 nights fights all skin imperfections uneven complexion, black spots actively fight the black surfaces of your skin to give you skin softness and a clearer complexion. This body lotion also contains snail slime which is a product natural whose objective is to firm and rejuvenate your skin'"
      ]
     },
     "execution_count": 114,
     "metadata": {},
     "output_type": "execute_result"
    }
   ],
   "source": [
    "    get_description(new_page)"
   ]
  },
  {
   "cell_type": "code",
   "execution_count": 12,
   "id": "441faa0f-aeb0-4d64-a84b-f2ec8988dde1",
   "metadata": {},
   "outputs": [],
   "source": [
    "def get_product_line(soup):\n",
    "    try:\n",
    "        # Only search inside breadcrumb or product section\n",
    "        breadcrumb = soup.find('nav', class_='breadcrumbs-container') or soup.find('div', class_='breadcrumbs-delimiter')\n",
    "        if breadcrumb:\n",
    "            tag = breadcrumb.find_all('a', href=lambda href: href and href.startswith('/collections/'))\n",
    "            if tag:\n",
    "                return tag[-1].get_text(strip=True)  # Last breadcrumb is usually the specific category\n",
    "    except Exception:\n",
    "        pass\n",
    "    return ''"
   ]
  },
  {
   "cell_type": "code",
   "execution_count": 13,
   "id": "8e318a45-d650-46ac-8b68-f6dcab1e6124",
   "metadata": {},
   "outputs": [],
   "source": [
    "def get_collection_links(soup):\n",
    "    return soup.find_all('a', href=lambda href: href and href.startswith('/collections/'))"
   ]
  },
  {
   "cell_type": "code",
   "execution_count": 82,
   "id": "8d4bd76e-26fc-4daf-bc4c-bc4d029e7335",
   "metadata": {},
   "outputs": [
    {
     "data": {
      "text/plain": [
       "'Skin Care'"
      ]
     },
     "execution_count": 82,
     "metadata": {},
     "output_type": "execute_result"
    }
   ],
   "source": [
    "get_product_line(new_page)"
   ]
  },
  {
   "cell_type": "code",
   "execution_count": 73,
   "id": "950e2c97-044e-46a3-9eef-22a99ddb91b4",
   "metadata": {},
   "outputs": [],
   "source": [
    "def get_collection_links(soup):\n",
    "    return soup.find_all('a', href=lambda href: href and href.startswith('/collections/'))\n"
   ]
  },
  {
   "cell_type": "code",
   "execution_count": 14,
   "id": "463a1dce-2acb-412e-bb60-bf258075fea9",
   "metadata": {},
   "outputs": [],
   "source": [
    "def get_website_name(soup):\n",
    "     try:\n",
    "        title_text = soup.title.string.strip()\n",
    "        # Split by em dash or hyphen, get the last part\n",
    "        if '—' in title_text:\n",
    "            return title_text.split('—')[-1].strip()\n",
    "        elif '-' in title_text:\n",
    "            return title_text.split('-')[-1].strip()\n",
    "        else:\n",
    "            return title_text  # fallback\n",
    "     except AttributeError:\n",
    "        return \"\" "
   ]
  },
  {
   "cell_type": "code",
   "execution_count": 164,
   "id": "8afbb1ed-1276-4036-a8d0-a181efd0153a",
   "metadata": {},
   "outputs": [
    {
     "data": {
      "text/plain": [
       "'Beto Cosmetics'"
      ]
     },
     "execution_count": 164,
     "metadata": {},
     "output_type": "execute_result"
    }
   ],
   "source": [
    "get_website_name(new_page)"
   ]
  },
  {
   "cell_type": "code",
   "execution_count": 139,
   "id": "5c497c2c-80e6-4b1c-ad73-3f46b9a8b9a5",
   "metadata": {},
   "outputs": [
    {
     "data": {
      "text/plain": [
       "<title>Skin Care — Beto Cosmetics</title>"
      ]
     },
     "execution_count": 139,
     "metadata": {},
     "output_type": "execute_result"
    }
   ],
   "source": [
    "soup.find('title')"
   ]
  },
  {
   "cell_type": "code",
   "execution_count": 123,
   "id": "742c225a-2a2f-4936-9a45-65a3c6484bb4",
   "metadata": {},
   "outputs": [
    {
     "data": {
      "text/plain": [
       "'betocosmetics.com'"
      ]
     },
     "execution_count": 123,
     "metadata": {},
     "output_type": "execute_result"
    }
   ],
   "source": [
    "get_website_name(new_page)"
   ]
  },
  {
   "cell_type": "code",
   "execution_count": 120,
   "id": "837b3f3d-b5ae-4c69-a3bd-6fc251dbdc70",
   "metadata": {},
   "outputs": [
    {
     "data": {
      "text/plain": [
       "'betocosmetics.com'"
      ]
     },
     "execution_count": 120,
     "metadata": {},
     "output_type": "execute_result"
    }
   ],
   "source": [
    "get_domain(URL)"
   ]
  },
  {
   "cell_type": "code",
   "execution_count": 25,
   "id": "6ec7ceae-c8ee-4835-8793-f7e1c68aaf73",
   "metadata": {},
   "outputs": [],
   "source": [
    "d = {'product_name':[],'product_line':[],'vendor':[],'availability':[],'badge':[],'price':[],'image_url':[],'description':[],'website_name':[]}"
   ]
  },
  {
   "cell_type": "code",
   "execution_count": 26,
   "id": "374a9f61-f38f-43b3-bb35-3e2d9de2033b",
   "metadata": {},
   "outputs": [],
   "source": [
    "for link in links_list:\n",
    "    if link.startswith(\"http\"):\n",
    "        full_url = link\n",
    "    else:\n",
    "        full_url = 'https://betocosmetics.com' + link\n",
    "\n",
    "    page = get_soup(full_url)\n",
    "\n",
    "    if not page:\n",
    "        print(f\"Failed to load page: {full_url}\")\n",
    "        continue\n",
    "\n",
    "    try:\n",
    "        product_data = {\n",
    "            'product_name': get_product_title(page),\n",
    "            'product_line': get_product_line(page),\n",
    "            'vendor': get_product_vendor(page),\n",
    "            'availability': get_product_availability(page),\n",
    "            'badge': get_product_badge(page),\n",
    "            'price': get_price(page),\n",
    "            'image_url': get_product_image_url(page),\n",
    "            'description': get_description(page),\n",
    "            'website_name': get_website_name(page),\n",
    "        }\n",
    "\n",
    "        for key in d:\n",
    "            d[key].append(product_data.get(key, \"\"))\n",
    "\n",
    "    except Exception as e:\n",
    "        print(f\"Error processing {full_url}: {e}\")\n",
    "        continue\n"
   ]
  },
  {
   "cell_type": "code",
   "execution_count": 27,
   "id": "69b0fc17-8db5-4c4b-8605-9c1d7a83cf00",
   "metadata": {},
   "outputs": [],
   "source": [
    "df = pd.DataFrame.from_dict(d)"
   ]
  },
  {
   "cell_type": "code",
   "execution_count": 28,
   "id": "903b7137-be43-4067-b354-5e5aed4311c5",
   "metadata": {},
   "outputs": [
    {
     "data": {
      "text/plain": [
       "(445, 9)"
      ]
     },
     "execution_count": 28,
     "metadata": {},
     "output_type": "execute_result"
    }
   ],
   "source": [
    "df.shape"
   ]
  },
  {
   "cell_type": "code",
   "execution_count": 29,
   "id": "14a40498-c2e7-438b-8087-983c2657e5b3",
   "metadata": {},
   "outputs": [
    {
     "data": {
      "text/html": [
       "<div>\n",
       "<style scoped>\n",
       "    .dataframe tbody tr th:only-of-type {\n",
       "        vertical-align: middle;\n",
       "    }\n",
       "\n",
       "    .dataframe tbody tr th {\n",
       "        vertical-align: top;\n",
       "    }\n",
       "\n",
       "    .dataframe thead th {\n",
       "        text-align: right;\n",
       "    }\n",
       "</style>\n",
       "<table border=\"1\" class=\"dataframe\">\n",
       "  <thead>\n",
       "    <tr style=\"text-align: right;\">\n",
       "      <th></th>\n",
       "      <th>product_name</th>\n",
       "      <th>product_line</th>\n",
       "      <th>vendor</th>\n",
       "      <th>availability</th>\n",
       "      <th>badge</th>\n",
       "      <th>price</th>\n",
       "      <th>image_url</th>\n",
       "      <th>description</th>\n",
       "      <th>website_name</th>\n",
       "    </tr>\n",
       "  </thead>\n",
       "  <tbody>\n",
       "    <tr>\n",
       "      <th>435</th>\n",
       "      <td>Orbi 20 Anti Marks Papaya Face Cream</td>\n",
       "      <td>Skin Care</td>\n",
       "      <td>by Orbis 20</td>\n",
       "      <td>in stock, ready to be shipped</td>\n",
       "      <td></td>\n",
       "      <td>3.000 BD</td>\n",
       "      <td>https://betocosmetics.com/cdn/shop/files/s-l12...</td>\n",
       "      <td>Orbi 20 Anti-pimple glow face cream smooths an...</td>\n",
       "      <td>Beto Cosmetics</td>\n",
       "    </tr>\n",
       "    <tr>\n",
       "      <th>436</th>\n",
       "      <td>B.B. Clear Unifying Skin lightening soap</td>\n",
       "      <td>Skin Care</td>\n",
       "      <td>by Rodis</td>\n",
       "      <td>in stock, ready to be shipped</td>\n",
       "      <td></td>\n",
       "      <td>3.000 BD</td>\n",
       "      <td>https://betocosmetics.com/cdn/shop/products/bb...</td>\n",
       "      <td>B.b. Clear Unifying Skin lightening soap B.b. ...</td>\n",
       "      <td>Beto Cosmetics</td>\n",
       "    </tr>\n",
       "    <tr>\n",
       "      <th>437</th>\n",
       "      <td>Jaune d' Oeuf Clarifying &amp; Treatment Egg Yolk ...</td>\n",
       "      <td>Skin Care</td>\n",
       "      <td>by Jaune D'Oeuf</td>\n",
       "      <td>in stock, ready to be shipped</td>\n",
       "      <td></td>\n",
       "      <td>2.500 BD</td>\n",
       "      <td>https://betocosmetics.com/cdn/shop/files/05_62...</td>\n",
       "      <td>Jaune D'oeuf Huile (Egg Yolk ) Treating &amp; Clar...</td>\n",
       "      <td>Beto Cosmetics</td>\n",
       "    </tr>\n",
       "    <tr>\n",
       "      <th>438</th>\n",
       "      <td>New Light Zaban Cream</td>\n",
       "      <td>Skin Care</td>\n",
       "      <td>by Others</td>\n",
       "      <td>in stock, ready to be shipped</td>\n",
       "      <td></td>\n",
       "      <td>3.000 BD</td>\n",
       "      <td>https://betocosmetics.com/cdn/shop/products/Ot...</td>\n",
       "      <td>New Light Zaban Cream is a cosmetic product th...</td>\n",
       "      <td>Beto Cosmetics</td>\n",
       "    </tr>\n",
       "    <tr>\n",
       "      <th>439</th>\n",
       "      <td>Fair &amp; White Gold 2 Maxi Tone Body Lotion - Br...</td>\n",
       "      <td>Skin Care</td>\n",
       "      <td>by F&amp;W</td>\n",
       "      <td>Out of stock</td>\n",
       "      <td>Sold out</td>\n",
       "      <td>15.000 BD</td>\n",
       "      <td>https://betocosmetics.com/cdn/shop/files/51KFJ...</td>\n",
       "      <td></td>\n",
       "      <td>Beto Cosmetics</td>\n",
       "    </tr>\n",
       "    <tr>\n",
       "      <th>440</th>\n",
       "      <td>Paw Paw Clarifying Soap with Vitamin E and Pap...</td>\n",
       "      <td>Skin Care</td>\n",
       "      <td>by Dream Cosmetics</td>\n",
       "      <td>in stock, ready to be shipped</td>\n",
       "      <td></td>\n",
       "      <td>2.500 BD</td>\n",
       "      <td>https://betocosmetics.com/cdn/shop/files/51VnX...</td>\n",
       "      <td>Paw Paw Skin Clarifying Papaya Cream The benef...</td>\n",
       "      <td>Beto Cosmetics</td>\n",
       "    </tr>\n",
       "    <tr>\n",
       "      <th>441</th>\n",
       "      <td>Mamado Papaya Lightening serum Vitamin E Enric...</td>\n",
       "      <td>Skin Care</td>\n",
       "      <td>by Mamado</td>\n",
       "      <td>in stock, ready to be shipped</td>\n",
       "      <td></td>\n",
       "      <td>6.500 BD</td>\n",
       "      <td>https://betocosmetics.com/cdn/shop/products/87...</td>\n",
       "      <td>About this item 100% Natural , NO SIDE EFFECTS...</td>\n",
       "      <td>Beto Cosmetics</td>\n",
       "    </tr>\n",
       "    <tr>\n",
       "      <th>442</th>\n",
       "      <td>Clere Lanolin and Glycerin Body Cream, 300 ml</td>\n",
       "      <td>Skin Care</td>\n",
       "      <td>by Clere</td>\n",
       "      <td>in stock, ready to be shipped</td>\n",
       "      <td></td>\n",
       "      <td>3.000 BD</td>\n",
       "      <td>https://betocosmetics.com/cdn/shop/files/61Fp9...</td>\n",
       "      <td>Buy Clere Body Creme Nourishing Lanolin &amp; Glyc...</td>\n",
       "      <td>Beto Cosmetics</td>\n",
       "    </tr>\n",
       "    <tr>\n",
       "      <th>443</th>\n",
       "      <td>Medix 5.5 Vitamin C Clinical Solutions Cream 5...</td>\n",
       "      <td>Skin Care</td>\n",
       "      <td>by Medix 5.5</td>\n",
       "      <td>in stock, ready to be shipped</td>\n",
       "      <td></td>\n",
       "      <td>5.000 BD</td>\n",
       "      <td>https://betocosmetics.com/cdn/shop/files/51692...</td>\n",
       "      <td>Brightening: Vitamin C is known for its abilit...</td>\n",
       "      <td>Beto Cosmetics</td>\n",
       "    </tr>\n",
       "    <tr>\n",
       "      <th>444</th>\n",
       "      <td>Moco De Gorila Gel Extreme Hold 340g (Yellow)</td>\n",
       "      <td>Skin Care</td>\n",
       "      <td>by Moco De Gorilla</td>\n",
       "      <td>in stock, ready to be shipped</td>\n",
       "      <td></td>\n",
       "      <td>4.000 BD</td>\n",
       "      <td>https://betocosmetics.com/cdn/shop/files/71SRH...</td>\n",
       "      <td>Holds approx. 11.9 oz. Maximum hold formula. H...</td>\n",
       "      <td>Beto Cosmetics</td>\n",
       "    </tr>\n",
       "  </tbody>\n",
       "</table>\n",
       "</div>"
      ],
      "text/plain": [
       "                                          product_name product_line  \\\n",
       "435               Orbi 20 Anti Marks Papaya Face Cream    Skin Care   \n",
       "436           B.B. Clear Unifying Skin lightening soap    Skin Care   \n",
       "437  Jaune d' Oeuf Clarifying & Treatment Egg Yolk ...    Skin Care   \n",
       "438                              New Light Zaban Cream    Skin Care   \n",
       "439  Fair & White Gold 2 Maxi Tone Body Lotion - Br...    Skin Care   \n",
       "440  Paw Paw Clarifying Soap with Vitamin E and Pap...    Skin Care   \n",
       "441  Mamado Papaya Lightening serum Vitamin E Enric...    Skin Care   \n",
       "442      Clere Lanolin and Glycerin Body Cream, 300 ml    Skin Care   \n",
       "443  Medix 5.5 Vitamin C Clinical Solutions Cream 5...    Skin Care   \n",
       "444      Moco De Gorila Gel Extreme Hold 340g (Yellow)    Skin Care   \n",
       "\n",
       "                 vendor                   availability     badge      price  \\\n",
       "435         by Orbis 20  in stock, ready to be shipped             3.000 BD   \n",
       "436            by Rodis  in stock, ready to be shipped             3.000 BD   \n",
       "437     by Jaune D'Oeuf  in stock, ready to be shipped             2.500 BD   \n",
       "438           by Others  in stock, ready to be shipped             3.000 BD   \n",
       "439              by F&W                   Out of stock  Sold out  15.000 BD   \n",
       "440  by Dream Cosmetics  in stock, ready to be shipped             2.500 BD   \n",
       "441           by Mamado  in stock, ready to be shipped             6.500 BD   \n",
       "442            by Clere  in stock, ready to be shipped             3.000 BD   \n",
       "443        by Medix 5.5  in stock, ready to be shipped             5.000 BD   \n",
       "444  by Moco De Gorilla  in stock, ready to be shipped             4.000 BD   \n",
       "\n",
       "                                             image_url  \\\n",
       "435  https://betocosmetics.com/cdn/shop/files/s-l12...   \n",
       "436  https://betocosmetics.com/cdn/shop/products/bb...   \n",
       "437  https://betocosmetics.com/cdn/shop/files/05_62...   \n",
       "438  https://betocosmetics.com/cdn/shop/products/Ot...   \n",
       "439  https://betocosmetics.com/cdn/shop/files/51KFJ...   \n",
       "440  https://betocosmetics.com/cdn/shop/files/51VnX...   \n",
       "441  https://betocosmetics.com/cdn/shop/products/87...   \n",
       "442  https://betocosmetics.com/cdn/shop/files/61Fp9...   \n",
       "443  https://betocosmetics.com/cdn/shop/files/51692...   \n",
       "444  https://betocosmetics.com/cdn/shop/files/71SRH...   \n",
       "\n",
       "                                           description    website_name  \n",
       "435  Orbi 20 Anti-pimple glow face cream smooths an...  Beto Cosmetics  \n",
       "436  B.b. Clear Unifying Skin lightening soap B.b. ...  Beto Cosmetics  \n",
       "437  Jaune D'oeuf Huile (Egg Yolk ) Treating & Clar...  Beto Cosmetics  \n",
       "438  New Light Zaban Cream is a cosmetic product th...  Beto Cosmetics  \n",
       "439                                                     Beto Cosmetics  \n",
       "440  Paw Paw Skin Clarifying Papaya Cream The benef...  Beto Cosmetics  \n",
       "441  About this item 100% Natural , NO SIDE EFFECTS...  Beto Cosmetics  \n",
       "442  Buy Clere Body Creme Nourishing Lanolin & Glyc...  Beto Cosmetics  \n",
       "443  Brightening: Vitamin C is known for its abilit...  Beto Cosmetics  \n",
       "444  Holds approx. 11.9 oz. Maximum hold formula. H...  Beto Cosmetics  "
      ]
     },
     "execution_count": 29,
     "metadata": {},
     "output_type": "execute_result"
    }
   ],
   "source": [
    "df.tail(10)"
   ]
  },
  {
   "cell_type": "markdown",
   "id": "a8d856af-c96c-4854-80e3-d2c30d6b3ba5",
   "metadata": {},
   "source": [
    "### Preparing data for analysis"
   ]
  },
  {
   "cell_type": "code",
   "execution_count": 30,
   "id": "7998e7cc-0f02-4939-81c3-06f54b9be5e6",
   "metadata": {},
   "outputs": [
    {
     "name": "stdout",
     "output_type": "stream",
     "text": [
      "<class 'pandas.core.frame.DataFrame'>\n",
      "RangeIndex: 445 entries, 0 to 444\n",
      "Data columns (total 9 columns):\n",
      " #   Column        Non-Null Count  Dtype \n",
      "---  ------        --------------  ----- \n",
      " 0   product_name  445 non-null    object\n",
      " 1   product_line  445 non-null    object\n",
      " 2   vendor        445 non-null    object\n",
      " 3   availability  445 non-null    object\n",
      " 4   badge         445 non-null    object\n",
      " 5   price         445 non-null    object\n",
      " 6   image_url     445 non-null    object\n",
      " 7   description   445 non-null    object\n",
      " 8   website_name  445 non-null    object\n",
      "dtypes: object(9)\n",
      "memory usage: 31.4+ KB\n"
     ]
    }
   ],
   "source": [
    "df.info()"
   ]
  },
  {
   "cell_type": "code",
   "execution_count": 67,
   "id": "51b2eb7f-1154-4d44-9aa9-76dcd9ab0c28",
   "metadata": {},
   "outputs": [],
   "source": [
    "df1 = df.copy()"
   ]
  },
  {
   "cell_type": "code",
   "execution_count": 66,
   "id": "e9f1ac4f-6323-4dd1-887c-e95b99cfd000",
   "metadata": {},
   "outputs": [],
   "source": [
    "# clean product data\n",
    "def clean_product_data(df):\n",
    "    \"\"\"\n",
    "    Cleans the scraped product data DataFrame:\n",
    "    - Strips 'by' from vendor names\n",
    "    - Extracts numeric price\n",
    "    - Fills missing values\n",
    "    - Standardizes column formats\n",
    "    \"\"\"\n",
    "    # 1. Remove 'by ' prefix from vendor names\n",
    "    df1['vendor'] = df1['vendor'].str.replace(r'^by\\s+', '', regex=True).str.strip()\n",
    "\n",
    "    # 2. Extract numeric value from price column and convert to float\n",
    "    df1['price_num'] = df1['price'].str.extract(r'(\\d+\\.\\d+)').astype(float)\n",
    "\n",
    "    # 3. Clean badge field (normalize empty vs 'Sold out')\n",
    "    df1['badge'] = df1['badge'].str.strip().replace('', 'In stock')\n",
    "\n",
    "    # 4. Fill missing values with empty strings to avoid NaNs in text columns\n",
    "    df1.fillna('', inplace=True)\n",
    "\n",
    "    #5. Rename column 'vendor' to 'brand'\n",
    "    df1.rename(columns={'vendor':'brand'}, inplace=True) \n",
    "    \n",
    "    #6. Clean Badge column\n",
    "    df1['badge'] = df1['badge'].str.replace(r'\\b(\\w+)(\\s+\\1)+\\b', r'\\1', regex=True)\n",
    "    \n",
    "\n",
    "    return df1\n"
   ]
  },
  {
   "cell_type": "code",
   "execution_count": 68,
   "id": "50954f38-9bf5-4158-ab72-b83fba7b5587",
   "metadata": {},
   "outputs": [
    {
     "data": {
      "text/html": [
       "<div>\n",
       "<style scoped>\n",
       "    .dataframe tbody tr th:only-of-type {\n",
       "        vertical-align: middle;\n",
       "    }\n",
       "\n",
       "    .dataframe tbody tr th {\n",
       "        vertical-align: top;\n",
       "    }\n",
       "\n",
       "    .dataframe thead th {\n",
       "        text-align: right;\n",
       "    }\n",
       "</style>\n",
       "<table border=\"1\" class=\"dataframe\">\n",
       "  <thead>\n",
       "    <tr style=\"text-align: right;\">\n",
       "      <th></th>\n",
       "      <th>product_name</th>\n",
       "      <th>product_line</th>\n",
       "      <th>brand</th>\n",
       "      <th>availability</th>\n",
       "      <th>badge</th>\n",
       "      <th>price</th>\n",
       "      <th>image_url</th>\n",
       "      <th>description</th>\n",
       "      <th>website_name</th>\n",
       "      <th>price_num</th>\n",
       "    </tr>\n",
       "  </thead>\n",
       "  <tbody>\n",
       "    <tr>\n",
       "      <th>0</th>\n",
       "      <td>Clear Essence Platinum Medicated Fade Creme Wi...</td>\n",
       "      <td>Skin Care</td>\n",
       "      <td>Clear Essence</td>\n",
       "      <td>Out of stock</td>\n",
       "      <td>Sold out</td>\n",
       "      <td>6.000 BD</td>\n",
       "      <td>https://betocosmetics.com/cdn/shop/files/clear...</td>\n",
       "      <td>Clear Essence® Platinum Medicated Fade Creme W...</td>\n",
       "      <td>Beto Cosmetics</td>\n",
       "      <td>6.0</td>\n",
       "    </tr>\n",
       "    <tr>\n",
       "      <th>1</th>\n",
       "      <td>Lalala Huile Eclaircissante Lightening Oil 100ml</td>\n",
       "      <td>Skin Care</td>\n",
       "      <td>La La La</td>\n",
       "      <td>Out of stock</td>\n",
       "      <td>Sold out</td>\n",
       "      <td>5.000 BD</td>\n",
       "      <td>https://betocosmetics.com/cdn/shop/files/lala_...</td>\n",
       "      <td>Lalala Lightening Oil is in a multi-lightening...</td>\n",
       "      <td>Beto Cosmetics</td>\n",
       "      <td>5.0</td>\n",
       "    </tr>\n",
       "    <tr>\n",
       "      <th>2</th>\n",
       "      <td>Fair &amp; White So White Skin perfector Cream Jar</td>\n",
       "      <td>Skin Care</td>\n",
       "      <td>Fair and White</td>\n",
       "      <td>Low stock</td>\n",
       "      <td>In stock</td>\n",
       "      <td>15.000 BD</td>\n",
       "      <td>https://betocosmetics.com/cdn/shop/products/Fa...</td>\n",
       "      <td>Formulated with antibacterial properties and p...</td>\n",
       "      <td>Beto Cosmetics</td>\n",
       "      <td>15.0</td>\n",
       "    </tr>\n",
       "    <tr>\n",
       "      <th>3</th>\n",
       "      <td>NATURE SECRETE Whitening and Exfoliating Gomma...</td>\n",
       "      <td>Skin Care</td>\n",
       "      <td>Nature Secrete</td>\n",
       "      <td>in stock, ready to be shipped</td>\n",
       "      <td>In stock</td>\n",
       "      <td>5.000 BD</td>\n",
       "      <td>https://betocosmetics.com/cdn/shop/products/Na...</td>\n",
       "      <td>NATURE SECRETE Natural Exfoliating Gommant Soa...</td>\n",
       "      <td>Beto Cosmetics</td>\n",
       "      <td>5.0</td>\n",
       "    </tr>\n",
       "    <tr>\n",
       "      <th>4</th>\n",
       "      <td>Melano Melaakne Acne Soap 100g</td>\n",
       "      <td>Skin Care</td>\n",
       "      <td>Melano</td>\n",
       "      <td>in stock, ready to be shipped</td>\n",
       "      <td>In stock</td>\n",
       "      <td>2.500 BD</td>\n",
       "      <td>https://betocosmetics.com/cdn/shop/files/image...</td>\n",
       "      <td>Melano Melaakne Acne Soap 100g Key features Hi...</td>\n",
       "      <td>Beto Cosmetics Melano Melaakne Acne Soap 100g</td>\n",
       "      <td>2.5</td>\n",
       "    </tr>\n",
       "    <tr>\n",
       "      <th>...</th>\n",
       "      <td>...</td>\n",
       "      <td>...</td>\n",
       "      <td>...</td>\n",
       "      <td>...</td>\n",
       "      <td>...</td>\n",
       "      <td>...</td>\n",
       "      <td>...</td>\n",
       "      <td>...</td>\n",
       "      <td>...</td>\n",
       "      <td>...</td>\n",
       "    </tr>\n",
       "    <tr>\n",
       "      <th>440</th>\n",
       "      <td>Paw Paw Clarifying Soap with Vitamin E and Pap...</td>\n",
       "      <td>Skin Care</td>\n",
       "      <td>Dream Cosmetics</td>\n",
       "      <td>in stock, ready to be shipped</td>\n",
       "      <td>In stock</td>\n",
       "      <td>2.500 BD</td>\n",
       "      <td>https://betocosmetics.com/cdn/shop/files/51VnX...</td>\n",
       "      <td>Paw Paw Skin Clarifying Papaya Cream The benef...</td>\n",
       "      <td>Beto Cosmetics</td>\n",
       "      <td>2.5</td>\n",
       "    </tr>\n",
       "    <tr>\n",
       "      <th>441</th>\n",
       "      <td>Mamado Papaya Lightening serum Vitamin E Enric...</td>\n",
       "      <td>Skin Care</td>\n",
       "      <td>Mamado</td>\n",
       "      <td>in stock, ready to be shipped</td>\n",
       "      <td>In stock</td>\n",
       "      <td>6.500 BD</td>\n",
       "      <td>https://betocosmetics.com/cdn/shop/products/87...</td>\n",
       "      <td>About this item 100% Natural , NO SIDE EFFECTS...</td>\n",
       "      <td>Beto Cosmetics</td>\n",
       "      <td>6.5</td>\n",
       "    </tr>\n",
       "    <tr>\n",
       "      <th>442</th>\n",
       "      <td>Clere Lanolin and Glycerin Body Cream, 300 ml</td>\n",
       "      <td>Skin Care</td>\n",
       "      <td>Clere</td>\n",
       "      <td>in stock, ready to be shipped</td>\n",
       "      <td>In stock</td>\n",
       "      <td>3.000 BD</td>\n",
       "      <td>https://betocosmetics.com/cdn/shop/files/61Fp9...</td>\n",
       "      <td>Buy Clere Body Creme Nourishing Lanolin &amp; Glyc...</td>\n",
       "      <td>Beto Cosmetics</td>\n",
       "      <td>3.0</td>\n",
       "    </tr>\n",
       "    <tr>\n",
       "      <th>443</th>\n",
       "      <td>Medix 5.5 Vitamin C Clinical Solutions Cream 5...</td>\n",
       "      <td>Skin Care</td>\n",
       "      <td>Medix 5.5</td>\n",
       "      <td>in stock, ready to be shipped</td>\n",
       "      <td>In stock</td>\n",
       "      <td>5.000 BD</td>\n",
       "      <td>https://betocosmetics.com/cdn/shop/files/51692...</td>\n",
       "      <td>Brightening: Vitamin C is known for its abilit...</td>\n",
       "      <td>Beto Cosmetics</td>\n",
       "      <td>5.0</td>\n",
       "    </tr>\n",
       "    <tr>\n",
       "      <th>444</th>\n",
       "      <td>Moco De Gorila Gel Extreme Hold 340g (Yellow)</td>\n",
       "      <td>Skin Care</td>\n",
       "      <td>Moco De Gorilla</td>\n",
       "      <td>in stock, ready to be shipped</td>\n",
       "      <td>In stock</td>\n",
       "      <td>4.000 BD</td>\n",
       "      <td>https://betocosmetics.com/cdn/shop/files/71SRH...</td>\n",
       "      <td>Holds approx. 11.9 oz. Maximum hold formula. H...</td>\n",
       "      <td>Beto Cosmetics</td>\n",
       "      <td>4.0</td>\n",
       "    </tr>\n",
       "  </tbody>\n",
       "</table>\n",
       "<p>445 rows × 10 columns</p>\n",
       "</div>"
      ],
      "text/plain": [
       "                                          product_name product_line  \\\n",
       "0    Clear Essence Platinum Medicated Fade Creme Wi...    Skin Care   \n",
       "1     Lalala Huile Eclaircissante Lightening Oil 100ml    Skin Care   \n",
       "2       Fair & White So White Skin perfector Cream Jar    Skin Care   \n",
       "3    NATURE SECRETE Whitening and Exfoliating Gomma...    Skin Care   \n",
       "4                       Melano Melaakne Acne Soap 100g    Skin Care   \n",
       "..                                                 ...          ...   \n",
       "440  Paw Paw Clarifying Soap with Vitamin E and Pap...    Skin Care   \n",
       "441  Mamado Papaya Lightening serum Vitamin E Enric...    Skin Care   \n",
       "442      Clere Lanolin and Glycerin Body Cream, 300 ml    Skin Care   \n",
       "443  Medix 5.5 Vitamin C Clinical Solutions Cream 5...    Skin Care   \n",
       "444      Moco De Gorila Gel Extreme Hold 340g (Yellow)    Skin Care   \n",
       "\n",
       "               brand                   availability     badge      price  \\\n",
       "0      Clear Essence                   Out of stock  Sold out   6.000 BD   \n",
       "1           La La La                   Out of stock  Sold out   5.000 BD   \n",
       "2     Fair and White                      Low stock  In stock  15.000 BD   \n",
       "3     Nature Secrete  in stock, ready to be shipped  In stock   5.000 BD   \n",
       "4             Melano  in stock, ready to be shipped  In stock   2.500 BD   \n",
       "..               ...                            ...       ...        ...   \n",
       "440  Dream Cosmetics  in stock, ready to be shipped  In stock   2.500 BD   \n",
       "441           Mamado  in stock, ready to be shipped  In stock   6.500 BD   \n",
       "442            Clere  in stock, ready to be shipped  In stock   3.000 BD   \n",
       "443        Medix 5.5  in stock, ready to be shipped  In stock   5.000 BD   \n",
       "444  Moco De Gorilla  in stock, ready to be shipped  In stock   4.000 BD   \n",
       "\n",
       "                                             image_url  \\\n",
       "0    https://betocosmetics.com/cdn/shop/files/clear...   \n",
       "1    https://betocosmetics.com/cdn/shop/files/lala_...   \n",
       "2    https://betocosmetics.com/cdn/shop/products/Fa...   \n",
       "3    https://betocosmetics.com/cdn/shop/products/Na...   \n",
       "4    https://betocosmetics.com/cdn/shop/files/image...   \n",
       "..                                                 ...   \n",
       "440  https://betocosmetics.com/cdn/shop/files/51VnX...   \n",
       "441  https://betocosmetics.com/cdn/shop/products/87...   \n",
       "442  https://betocosmetics.com/cdn/shop/files/61Fp9...   \n",
       "443  https://betocosmetics.com/cdn/shop/files/51692...   \n",
       "444  https://betocosmetics.com/cdn/shop/files/71SRH...   \n",
       "\n",
       "                                           description  \\\n",
       "0    Clear Essence® Platinum Medicated Fade Creme W...   \n",
       "1    Lalala Lightening Oil is in a multi-lightening...   \n",
       "2    Formulated with antibacterial properties and p...   \n",
       "3    NATURE SECRETE Natural Exfoliating Gommant Soa...   \n",
       "4    Melano Melaakne Acne Soap 100g Key features Hi...   \n",
       "..                                                 ...   \n",
       "440  Paw Paw Skin Clarifying Papaya Cream The benef...   \n",
       "441  About this item 100% Natural , NO SIDE EFFECTS...   \n",
       "442  Buy Clere Body Creme Nourishing Lanolin & Glyc...   \n",
       "443  Brightening: Vitamin C is known for its abilit...   \n",
       "444  Holds approx. 11.9 oz. Maximum hold formula. H...   \n",
       "\n",
       "                                      website_name  price_num  \n",
       "0                                   Beto Cosmetics        6.0  \n",
       "1                                   Beto Cosmetics        5.0  \n",
       "2                                   Beto Cosmetics       15.0  \n",
       "3                                   Beto Cosmetics        5.0  \n",
       "4    Beto Cosmetics Melano Melaakne Acne Soap 100g        2.5  \n",
       "..                                             ...        ...  \n",
       "440                                 Beto Cosmetics        2.5  \n",
       "441                                 Beto Cosmetics        6.5  \n",
       "442                                 Beto Cosmetics        3.0  \n",
       "443                                 Beto Cosmetics        5.0  \n",
       "444                                 Beto Cosmetics        4.0  \n",
       "\n",
       "[445 rows x 10 columns]"
      ]
     },
     "execution_count": 68,
     "metadata": {},
     "output_type": "execute_result"
    }
   ],
   "source": [
    "clean_product_data(df1)"
   ]
  },
  {
   "cell_type": "markdown",
   "id": "3cb52b02-23b0-4c7d-adcd-bcb28273eaa9",
   "metadata": {},
   "source": [
    "### Feature Engineering"
   ]
  },
  {
   "cell_type": "code",
   "execution_count": 69,
   "id": "8a6e4f86-2b0b-4c02-ad3b-9637987409da",
   "metadata": {},
   "outputs": [],
   "source": [
    "import re\n",
    "\n",
    "def classify_product(name):\n",
    "    name = name.lower()\n",
    "    if 'lotion' in name:\n",
    "        return 'Lotion'\n",
    "    elif 'cream' in name:\n",
    "        return 'Cream'\n",
    "    elif 'serum' in name:\n",
    "        return 'Serum'\n",
    "    elif 'soap' in name:\n",
    "        return 'Soap'\n",
    "    elif 'oil' in name:\n",
    "        return 'Oil'\n",
    "    elif 'butter' in name:\n",
    "        return 'Butter'\n",
    "    else:\n",
    "        return 'Other'\n",
    "\n",
    "df1['product_type'] = df1['product_name'].apply(classify_product)"
   ]
  },
  {
   "cell_type": "code",
   "execution_count": 70,
   "id": "f15eb37e-c1a7-439a-ad00-a0b1813fbe51",
   "metadata": {},
   "outputs": [
    {
     "data": {
      "text/html": [
       "<div>\n",
       "<style scoped>\n",
       "    .dataframe tbody tr th:only-of-type {\n",
       "        vertical-align: middle;\n",
       "    }\n",
       "\n",
       "    .dataframe tbody tr th {\n",
       "        vertical-align: top;\n",
       "    }\n",
       "\n",
       "    .dataframe thead th {\n",
       "        text-align: right;\n",
       "    }\n",
       "</style>\n",
       "<table border=\"1\" class=\"dataframe\">\n",
       "  <thead>\n",
       "    <tr style=\"text-align: right;\">\n",
       "      <th></th>\n",
       "      <th>product_name</th>\n",
       "      <th>product_line</th>\n",
       "      <th>brand</th>\n",
       "      <th>availability</th>\n",
       "      <th>badge</th>\n",
       "      <th>price</th>\n",
       "      <th>image_url</th>\n",
       "      <th>description</th>\n",
       "      <th>website_name</th>\n",
       "      <th>price_num</th>\n",
       "      <th>product_type</th>\n",
       "    </tr>\n",
       "  </thead>\n",
       "  <tbody>\n",
       "    <tr>\n",
       "      <th>436</th>\n",
       "      <td>B.B. Clear Unifying Skin lightening soap</td>\n",
       "      <td>Skin Care</td>\n",
       "      <td>Rodis</td>\n",
       "      <td>in stock, ready to be shipped</td>\n",
       "      <td>In stock</td>\n",
       "      <td>3.000 BD</td>\n",
       "      <td>https://betocosmetics.com/cdn/shop/products/bb...</td>\n",
       "      <td>B.b. Clear Unifying Skin lightening soap B.b. ...</td>\n",
       "      <td>Beto Cosmetics</td>\n",
       "      <td>3.0</td>\n",
       "      <td>Soap</td>\n",
       "    </tr>\n",
       "    <tr>\n",
       "      <th>437</th>\n",
       "      <td>Jaune d' Oeuf Clarifying &amp; Treatment Egg Yolk ...</td>\n",
       "      <td>Skin Care</td>\n",
       "      <td>Jaune D'Oeuf</td>\n",
       "      <td>in stock, ready to be shipped</td>\n",
       "      <td>In stock</td>\n",
       "      <td>2.500 BD</td>\n",
       "      <td>https://betocosmetics.com/cdn/shop/files/05_62...</td>\n",
       "      <td>Jaune D'oeuf Huile (Egg Yolk ) Treating &amp; Clar...</td>\n",
       "      <td>Beto Cosmetics</td>\n",
       "      <td>2.5</td>\n",
       "      <td>Oil</td>\n",
       "    </tr>\n",
       "    <tr>\n",
       "      <th>438</th>\n",
       "      <td>New Light Zaban Cream</td>\n",
       "      <td>Skin Care</td>\n",
       "      <td>Others</td>\n",
       "      <td>in stock, ready to be shipped</td>\n",
       "      <td>In stock</td>\n",
       "      <td>3.000 BD</td>\n",
       "      <td>https://betocosmetics.com/cdn/shop/products/Ot...</td>\n",
       "      <td>New Light Zaban Cream is a cosmetic product th...</td>\n",
       "      <td>Beto Cosmetics</td>\n",
       "      <td>3.0</td>\n",
       "      <td>Cream</td>\n",
       "    </tr>\n",
       "    <tr>\n",
       "      <th>439</th>\n",
       "      <td>Fair &amp; White Gold 2 Maxi Tone Body Lotion - Br...</td>\n",
       "      <td>Skin Care</td>\n",
       "      <td>F&amp;W</td>\n",
       "      <td>Out of stock</td>\n",
       "      <td>Sold out</td>\n",
       "      <td>15.000 BD</td>\n",
       "      <td>https://betocosmetics.com/cdn/shop/files/51KFJ...</td>\n",
       "      <td></td>\n",
       "      <td>Beto Cosmetics</td>\n",
       "      <td>15.0</td>\n",
       "      <td>Lotion</td>\n",
       "    </tr>\n",
       "    <tr>\n",
       "      <th>440</th>\n",
       "      <td>Paw Paw Clarifying Soap with Vitamin E and Pap...</td>\n",
       "      <td>Skin Care</td>\n",
       "      <td>Dream Cosmetics</td>\n",
       "      <td>in stock, ready to be shipped</td>\n",
       "      <td>In stock</td>\n",
       "      <td>2.500 BD</td>\n",
       "      <td>https://betocosmetics.com/cdn/shop/files/51VnX...</td>\n",
       "      <td>Paw Paw Skin Clarifying Papaya Cream The benef...</td>\n",
       "      <td>Beto Cosmetics</td>\n",
       "      <td>2.5</td>\n",
       "      <td>Soap</td>\n",
       "    </tr>\n",
       "    <tr>\n",
       "      <th>441</th>\n",
       "      <td>Mamado Papaya Lightening serum Vitamin E Enric...</td>\n",
       "      <td>Skin Care</td>\n",
       "      <td>Mamado</td>\n",
       "      <td>in stock, ready to be shipped</td>\n",
       "      <td>In stock</td>\n",
       "      <td>6.500 BD</td>\n",
       "      <td>https://betocosmetics.com/cdn/shop/products/87...</td>\n",
       "      <td>About this item 100% Natural , NO SIDE EFFECTS...</td>\n",
       "      <td>Beto Cosmetics</td>\n",
       "      <td>6.5</td>\n",
       "      <td>Serum</td>\n",
       "    </tr>\n",
       "    <tr>\n",
       "      <th>442</th>\n",
       "      <td>Clere Lanolin and Glycerin Body Cream, 300 ml</td>\n",
       "      <td>Skin Care</td>\n",
       "      <td>Clere</td>\n",
       "      <td>in stock, ready to be shipped</td>\n",
       "      <td>In stock</td>\n",
       "      <td>3.000 BD</td>\n",
       "      <td>https://betocosmetics.com/cdn/shop/files/61Fp9...</td>\n",
       "      <td>Buy Clere Body Creme Nourishing Lanolin &amp; Glyc...</td>\n",
       "      <td>Beto Cosmetics</td>\n",
       "      <td>3.0</td>\n",
       "      <td>Cream</td>\n",
       "    </tr>\n",
       "    <tr>\n",
       "      <th>443</th>\n",
       "      <td>Medix 5.5 Vitamin C Clinical Solutions Cream 5...</td>\n",
       "      <td>Skin Care</td>\n",
       "      <td>Medix 5.5</td>\n",
       "      <td>in stock, ready to be shipped</td>\n",
       "      <td>In stock</td>\n",
       "      <td>5.000 BD</td>\n",
       "      <td>https://betocosmetics.com/cdn/shop/files/51692...</td>\n",
       "      <td>Brightening: Vitamin C is known for its abilit...</td>\n",
       "      <td>Beto Cosmetics</td>\n",
       "      <td>5.0</td>\n",
       "      <td>Cream</td>\n",
       "    </tr>\n",
       "    <tr>\n",
       "      <th>444</th>\n",
       "      <td>Moco De Gorila Gel Extreme Hold 340g (Yellow)</td>\n",
       "      <td>Skin Care</td>\n",
       "      <td>Moco De Gorilla</td>\n",
       "      <td>in stock, ready to be shipped</td>\n",
       "      <td>In stock</td>\n",
       "      <td>4.000 BD</td>\n",
       "      <td>https://betocosmetics.com/cdn/shop/files/71SRH...</td>\n",
       "      <td>Holds approx. 11.9 oz. Maximum hold formula. H...</td>\n",
       "      <td>Beto Cosmetics</td>\n",
       "      <td>4.0</td>\n",
       "      <td>Other</td>\n",
       "    </tr>\n",
       "  </tbody>\n",
       "</table>\n",
       "</div>"
      ],
      "text/plain": [
       "                                          product_name product_line  \\\n",
       "436           B.B. Clear Unifying Skin lightening soap    Skin Care   \n",
       "437  Jaune d' Oeuf Clarifying & Treatment Egg Yolk ...    Skin Care   \n",
       "438                              New Light Zaban Cream    Skin Care   \n",
       "439  Fair & White Gold 2 Maxi Tone Body Lotion - Br...    Skin Care   \n",
       "440  Paw Paw Clarifying Soap with Vitamin E and Pap...    Skin Care   \n",
       "441  Mamado Papaya Lightening serum Vitamin E Enric...    Skin Care   \n",
       "442      Clere Lanolin and Glycerin Body Cream, 300 ml    Skin Care   \n",
       "443  Medix 5.5 Vitamin C Clinical Solutions Cream 5...    Skin Care   \n",
       "444      Moco De Gorila Gel Extreme Hold 340g (Yellow)    Skin Care   \n",
       "\n",
       "               brand                   availability     badge      price  \\\n",
       "436            Rodis  in stock, ready to be shipped  In stock   3.000 BD   \n",
       "437     Jaune D'Oeuf  in stock, ready to be shipped  In stock   2.500 BD   \n",
       "438           Others  in stock, ready to be shipped  In stock   3.000 BD   \n",
       "439              F&W                   Out of stock  Sold out  15.000 BD   \n",
       "440  Dream Cosmetics  in stock, ready to be shipped  In stock   2.500 BD   \n",
       "441           Mamado  in stock, ready to be shipped  In stock   6.500 BD   \n",
       "442            Clere  in stock, ready to be shipped  In stock   3.000 BD   \n",
       "443        Medix 5.5  in stock, ready to be shipped  In stock   5.000 BD   \n",
       "444  Moco De Gorilla  in stock, ready to be shipped  In stock   4.000 BD   \n",
       "\n",
       "                                             image_url  \\\n",
       "436  https://betocosmetics.com/cdn/shop/products/bb...   \n",
       "437  https://betocosmetics.com/cdn/shop/files/05_62...   \n",
       "438  https://betocosmetics.com/cdn/shop/products/Ot...   \n",
       "439  https://betocosmetics.com/cdn/shop/files/51KFJ...   \n",
       "440  https://betocosmetics.com/cdn/shop/files/51VnX...   \n",
       "441  https://betocosmetics.com/cdn/shop/products/87...   \n",
       "442  https://betocosmetics.com/cdn/shop/files/61Fp9...   \n",
       "443  https://betocosmetics.com/cdn/shop/files/51692...   \n",
       "444  https://betocosmetics.com/cdn/shop/files/71SRH...   \n",
       "\n",
       "                                           description    website_name  \\\n",
       "436  B.b. Clear Unifying Skin lightening soap B.b. ...  Beto Cosmetics   \n",
       "437  Jaune D'oeuf Huile (Egg Yolk ) Treating & Clar...  Beto Cosmetics   \n",
       "438  New Light Zaban Cream is a cosmetic product th...  Beto Cosmetics   \n",
       "439                                                     Beto Cosmetics   \n",
       "440  Paw Paw Skin Clarifying Papaya Cream The benef...  Beto Cosmetics   \n",
       "441  About this item 100% Natural , NO SIDE EFFECTS...  Beto Cosmetics   \n",
       "442  Buy Clere Body Creme Nourishing Lanolin & Glyc...  Beto Cosmetics   \n",
       "443  Brightening: Vitamin C is known for its abilit...  Beto Cosmetics   \n",
       "444  Holds approx. 11.9 oz. Maximum hold formula. H...  Beto Cosmetics   \n",
       "\n",
       "     price_num product_type  \n",
       "436        3.0         Soap  \n",
       "437        2.5          Oil  \n",
       "438        3.0        Cream  \n",
       "439       15.0       Lotion  \n",
       "440        2.5         Soap  \n",
       "441        6.5        Serum  \n",
       "442        3.0        Cream  \n",
       "443        5.0        Cream  \n",
       "444        4.0        Other  "
      ]
     },
     "execution_count": 70,
     "metadata": {},
     "output_type": "execute_result"
    }
   ],
   "source": [
    "df1.tail(9)"
   ]
  },
  {
   "cell_type": "code",
   "execution_count": 64,
   "id": "76f1cb1f-a17b-46a7-992b-e399e1156da6",
   "metadata": {},
   "outputs": [
    {
     "data": {
      "text/plain": [
       "445"
      ]
     },
     "execution_count": 64,
     "metadata": {},
     "output_type": "execute_result"
    }
   ],
   "source": [
    "len(df1)"
   ]
  },
  {
   "cell_type": "code",
   "execution_count": 72,
   "id": "6c02ba6e-63d1-4cbb-b374-f888a82b6120",
   "metadata": {},
   "outputs": [],
   "source": [
    "df1.to_csv('skincare2.csv', index = False)"
   ]
  }
 ],
 "metadata": {
  "kernelspec": {
   "display_name": "Python 3 (ipykernel)",
   "language": "python",
   "name": "python3"
  },
  "language_info": {
   "codemirror_mode": {
    "name": "ipython",
    "version": 3
   },
   "file_extension": ".py",
   "mimetype": "text/x-python",
   "name": "python",
   "nbconvert_exporter": "python",
   "pygments_lexer": "ipython3",
   "version": "3.10.11"
  }
 },
 "nbformat": 4,
 "nbformat_minor": 5
}
